{
 "cells": [
  {
   "cell_type": "markdown",
   "id": "14fc3c5e-2484-4afe-8e1a-90151e0ad4c7",
   "metadata": {
    "execution": {
     "iopub.execute_input": "2023-07-20T20:06:36.998769Z",
     "iopub.status.busy": "2023-07-20T20:06:36.997771Z",
     "iopub.status.idle": "2023-07-20T20:06:37.141391Z",
     "shell.execute_reply": "2023-07-20T20:06:37.139397Z",
     "shell.execute_reply.started": "2023-07-20T20:06:36.998769Z"
    },
    "tags": []
   },
   "source": [
    "# HWP_Carbon"
   ]
  },
  {
   "cell_type": "code",
   "execution_count": 1,
   "id": "9aab641e-b2d8-495e-ae1f-e270b2b45fa4",
   "metadata": {
    "execution": {
     "iopub.execute_input": "2023-07-26T15:17:02.537856Z",
     "iopub.status.busy": "2023-07-26T15:17:02.537856Z",
     "iopub.status.idle": "2023-07-26T15:17:02.625622Z",
     "shell.execute_reply": "2023-07-26T15:17:02.624624Z",
     "shell.execute_reply.started": "2023-07-26T15:17:02.537856Z"
    },
    "tags": []
   },
   "outputs": [],
   "source": [
    "%load_ext autoreload\n",
    "%autoreload 2"
   ]
  },
  {
   "cell_type": "code",
   "execution_count": 2,
   "id": "76de5978-9c89-4aff-a85a-b85810d27846",
   "metadata": {
    "execution": {
     "iopub.execute_input": "2023-07-26T15:17:02.626619Z",
     "iopub.status.busy": "2023-07-26T15:17:02.626619Z",
     "iopub.status.idle": "2023-07-26T15:17:04.454528Z",
     "shell.execute_reply": "2023-07-26T15:17:04.453530Z",
     "shell.execute_reply.started": "2023-07-26T15:17:02.626619Z"
    },
    "tags": []
   },
   "outputs": [],
   "source": [
    "import os\n",
    "\n",
    "# src_dir = os.path.abspath('..')\n",
    "# if src_dir not in os.sys.path:\n",
    "#     os.sys.path.insert(1, src_dir)\n",
    "# print(src_dir)\n",
    "\n",
    "import pandas as pd\n",
    "import numpy as np\n",
    "import matplotlib.pyplot as plt\n",
    "%matplotlib inline"
   ]
  },
  {
   "cell_type": "code",
   "execution_count": 3,
   "id": "3d4ea996-3035-437f-923c-a46bbcabf10e",
   "metadata": {
    "execution": {
     "iopub.execute_input": "2023-07-26T15:17:04.457518Z",
     "iopub.status.busy": "2023-07-26T15:17:04.456520Z",
     "iopub.status.idle": "2023-07-26T15:17:04.950542Z",
     "shell.execute_reply": "2023-07-26T15:17:04.949548Z",
     "shell.execute_reply.started": "2023-07-26T15:17:04.457518Z"
    },
    "tags": []
   },
   "outputs": [],
   "source": [
    "from hwp_carbon.network import CarbonNetwork\n",
    "from hwp_carbon.network_plotting import network_to_dot\n",
    "from hwp_carbon.utils import excel_to_carbonnetwork_init_data, adjust_array"
   ]
  },
  {
   "cell_type": "code",
   "execution_count": 4,
   "id": "1c3f7562-9041-46ba-b5b0-ff483a24d228",
   "metadata": {
    "execution": {
     "iopub.execute_input": "2023-07-26T15:17:04.952537Z",
     "iopub.status.busy": "2023-07-26T15:17:04.952537Z",
     "iopub.status.idle": "2023-07-26T15:17:05.059094Z",
     "shell.execute_reply": "2023-07-26T15:17:05.057102Z",
     "shell.execute_reply.started": "2023-07-26T15:17:04.952537Z"
    },
    "tags": []
   },
   "outputs": [
    {
     "data": {
      "text/plain": [
       "array([1., 1., 2.])"
      ]
     },
     "execution_count": 4,
     "metadata": {},
     "output_type": "execute_result"
    }
   ],
   "source": [
    "array = np.array([np.nan, 1, 2, np.nan, 4.5, 6, np.nan, np.nan, -6, np.nan])\n",
    "adjust_array(array, wanted_length=3)"
   ]
  },
  {
   "cell_type": "markdown",
   "id": "3b5076dc-cc68-4bee-88f2-b21de78aa77e",
   "metadata": {},
   "source": [
    "## Simulation"
   ]
  },
  {
   "cell_type": "code",
   "execution_count": 5,
   "id": "370945ce-e70b-41d9-a788-fc4123a33525",
   "metadata": {
    "execution": {
     "iopub.execute_input": "2023-07-26T15:17:05.068071Z",
     "iopub.status.busy": "2023-07-26T15:17:05.068071Z",
     "iopub.status.idle": "2023-07-26T15:17:05.166691Z",
     "shell.execute_reply": "2023-07-26T15:17:05.165695Z",
     "shell.execute_reply.started": "2023-07-26T15:17:05.068071Z"
    },
    "tags": []
   },
   "outputs": [],
   "source": [
    "excel_path = '../tests/test_data.xlsx'"
   ]
  },
  {
   "cell_type": "code",
   "execution_count": 6,
   "id": "69559881-1648-47f8-b262-b15550ee588a",
   "metadata": {
    "execution": {
     "iopub.execute_input": "2023-07-26T15:17:05.169684Z",
     "iopub.status.busy": "2023-07-26T15:17:05.168686Z",
     "iopub.status.idle": "2023-07-26T15:17:05.879990Z",
     "shell.execute_reply": "2023-07-26T15:17:05.879990Z",
     "shell.execute_reply.started": "2023-07-26T15:17:05.169684Z"
    },
    "tags": []
   },
   "outputs": [],
   "source": [
    "init_data = excel_to_carbonnetwork_init_data(excel_path)"
   ]
  },
  {
   "cell_type": "code",
   "execution_count": 11,
   "id": "38617699-50c6-44c9-a390-e76b62b48941",
   "metadata": {
    "execution": {
     "iopub.execute_input": "2023-07-26T15:38:26.788118Z",
     "iopub.status.busy": "2023-07-26T15:38:26.787122Z",
     "iopub.status.idle": "2023-07-26T15:38:26.917750Z",
     "shell.execute_reply": "2023-07-26T15:38:26.916754Z",
     "shell.execute_reply.started": "2023-07-26T15:38:26.788118Z"
    },
    "tags": []
   },
   "outputs": [],
   "source": [
    "net = CarbonNetwork(init_data)\n",
    "net1 = CarbonNetwork(init_data)"
   ]
  },
  {
   "cell_type": "code",
   "execution_count": null,
   "id": "25491fa3-bef2-4fa2-abf3-bb1bd644232e",
   "metadata": {},
   "outputs": [],
   "source": []
  },
  {
   "cell_type": "code",
   "execution_count": 10,
   "id": "5f24a78a-ee8c-4bb9-84d3-cae251049774",
   "metadata": {
    "execution": {
     "iopub.execute_input": "2023-07-26T15:17:16.729414Z",
     "iopub.status.busy": "2023-07-26T15:17:16.729414Z",
     "iopub.status.idle": "2023-07-26T15:17:17.083477Z",
     "shell.execute_reply": "2023-07-26T15:17:17.083477Z",
     "shell.execute_reply.started": "2023-07-26T15:17:16.729414Z"
    },
    "tags": []
   },
   "outputs": [
    {
     "data": {
      "text/plain": [
       "'test_data.png'"
      ]
     },
     "execution_count": 10,
     "metadata": {},
     "output_type": "execute_result"
    }
   ],
   "source": [
    "dot = network_to_dot(net)\n",
    "\n",
    "dot.graph_attr['nodesep'] = '1'\n",
    "dot.graph_attr['ranksep'] = '1'\n",
    "dot.graph_attr['splines'] = 'spline' # 'ortho'\n",
    "dot.render('test_data')"
   ]
  },
  {
   "cell_type": "code",
   "execution_count": 19,
   "id": "8c636abe-42aa-4dff-835e-d95668bc4dc6",
   "metadata": {
    "execution": {
     "iopub.execute_input": "2023-07-26T15:42:05.076875Z",
     "iopub.status.busy": "2023-07-26T15:42:05.076223Z",
     "iopub.status.idle": "2023-07-26T15:42:05.237929Z",
     "shell.execute_reply": "2023-07-26T15:42:05.236548Z",
     "shell.execute_reply.started": "2023-07-26T15:42:05.076875Z"
    },
    "tags": []
   },
   "outputs": [],
   "source": [
    "inputs = {'paper': [300, 0, 0, 100], 'veneer': [75], 'sawnwood':[200]}\n",
    "steps = 100\n",
    "net.run_simulation(inputs, steps=steps)"
   ]
  },
  {
   "cell_type": "code",
   "execution_count": null,
   "id": "5ebace78-f8e4-4363-ac4d-4556c671c19c",
   "metadata": {
    "tags": []
   },
   "outputs": [],
   "source": [
    "df = net.get_flows_attr('values', as_dataframe=True)\n",
    "df.index.levels[1]"
   ]
  },
  {
   "cell_type": "code",
   "execution_count": null,
   "id": "a06625b0-07ae-4afe-89ec-b354bd4ad89e",
   "metadata": {
    "tags": []
   },
   "outputs": [],
   "source": [
    "(df[df.index.get_level_values('dst_pool') == 'bioenergy'].sum()* net.pools['bioenergy'].substitution_factor).sum()"
   ]
  },
  {
   "cell_type": "code",
   "execution_count": 28,
   "id": "88339c11-2b8a-48dc-bcc4-1b20720c4b1d",
   "metadata": {
    "execution": {
     "iopub.execute_input": "2023-07-26T15:50:15.049756Z",
     "iopub.status.busy": "2023-07-26T15:50:15.048758Z",
     "iopub.status.idle": "2023-07-26T15:50:15.267346Z",
     "shell.execute_reply": "2023-07-26T15:50:15.267346Z",
     "shell.execute_reply.started": "2023-07-26T15:50:15.049756Z"
    },
    "tags": []
   },
   "outputs": [
    {
     "data": {
      "text/plain": [
       "0.0"
      ]
     },
     "execution_count": 28,
     "metadata": {},
     "output_type": "execute_result"
    }
   ],
   "source": [
    "net.get_pools_attr('carbon_stock', as_dataframe=True).loc['bioenergy'].sum()"
   ]
  },
  {
   "cell_type": "code",
   "execution_count": 18,
   "id": "cb0bbb44-6cb1-49af-a079-4a0fe21cd69d",
   "metadata": {
    "execution": {
     "iopub.execute_input": "2023-07-26T15:41:20.526781Z",
     "iopub.status.busy": "2023-07-26T15:41:20.525783Z",
     "iopub.status.idle": "2023-07-26T15:41:20.758544Z",
     "shell.execute_reply": "2023-07-26T15:41:20.756549Z",
     "shell.execute_reply.started": "2023-07-26T15:41:20.526781Z"
    },
    "tags": []
   },
   "outputs": [
    {
     "data": {
      "text/html": [
       "<div>\n",
       "<style scoped>\n",
       "    .dataframe tbody tr th:only-of-type {\n",
       "        vertical-align: middle;\n",
       "    }\n",
       "\n",
       "    .dataframe tbody tr th {\n",
       "        vertical-align: top;\n",
       "    }\n",
       "\n",
       "    .dataframe thead th {\n",
       "        text-align: right;\n",
       "    }\n",
       "</style>\n",
       "<table border=\"1\" class=\"dataframe\">\n",
       "  <thead>\n",
       "    <tr style=\"text-align: right;\">\n",
       "      <th></th>\n",
       "      <th>0</th>\n",
       "      <th>1</th>\n",
       "      <th>2</th>\n",
       "      <th>3</th>\n",
       "      <th>4</th>\n",
       "      <th>5</th>\n",
       "      <th>6</th>\n",
       "      <th>7</th>\n",
       "      <th>8</th>\n",
       "      <th>9</th>\n",
       "      <th>...</th>\n",
       "      <th>90</th>\n",
       "      <th>91</th>\n",
       "      <th>92</th>\n",
       "      <th>93</th>\n",
       "      <th>94</th>\n",
       "      <th>95</th>\n",
       "      <th>96</th>\n",
       "      <th>97</th>\n",
       "      <th>98</th>\n",
       "      <th>99</th>\n",
       "    </tr>\n",
       "    <tr>\n",
       "      <th>pool_name</th>\n",
       "      <th></th>\n",
       "      <th></th>\n",
       "      <th></th>\n",
       "      <th></th>\n",
       "      <th></th>\n",
       "      <th></th>\n",
       "      <th></th>\n",
       "      <th></th>\n",
       "      <th></th>\n",
       "      <th></th>\n",
       "      <th></th>\n",
       "      <th></th>\n",
       "      <th></th>\n",
       "      <th></th>\n",
       "      <th></th>\n",
       "      <th></th>\n",
       "      <th></th>\n",
       "      <th></th>\n",
       "      <th></th>\n",
       "      <th></th>\n",
       "      <th></th>\n",
       "    </tr>\n",
       "  </thead>\n",
       "  <tbody>\n",
       "    <tr>\n",
       "      <th>sawnwood</th>\n",
       "      <td>108.000000</td>\n",
       "      <td>0.000000</td>\n",
       "      <td>0.000000</td>\n",
       "      <td>0.000000</td>\n",
       "      <td>0.000000</td>\n",
       "      <td>0.000000</td>\n",
       "      <td>0.000000</td>\n",
       "      <td>0.000000</td>\n",
       "      <td>0.000000</td>\n",
       "      <td>0.000000</td>\n",
       "      <td>...</td>\n",
       "      <td>0.000000</td>\n",
       "      <td>0.000000</td>\n",
       "      <td>0.000000</td>\n",
       "      <td>0.000000</td>\n",
       "      <td>0.000000</td>\n",
       "      <td>0.000000</td>\n",
       "      <td>0.00000</td>\n",
       "      <td>0.000000</td>\n",
       "      <td>0.000000</td>\n",
       "      <td>0.000000</td>\n",
       "    </tr>\n",
       "    <tr>\n",
       "      <th>veneer</th>\n",
       "      <td>33.750000</td>\n",
       "      <td>0.000000</td>\n",
       "      <td>0.000000</td>\n",
       "      <td>0.000000</td>\n",
       "      <td>0.000000</td>\n",
       "      <td>0.000000</td>\n",
       "      <td>0.000000</td>\n",
       "      <td>0.000000</td>\n",
       "      <td>0.000000</td>\n",
       "      <td>0.000000</td>\n",
       "      <td>...</td>\n",
       "      <td>0.000000</td>\n",
       "      <td>0.000000</td>\n",
       "      <td>0.000000</td>\n",
       "      <td>0.000000</td>\n",
       "      <td>0.000000</td>\n",
       "      <td>0.000000</td>\n",
       "      <td>0.00000</td>\n",
       "      <td>0.000000</td>\n",
       "      <td>0.000000</td>\n",
       "      <td>0.000000</td>\n",
       "    </tr>\n",
       "    <tr>\n",
       "      <th>paper</th>\n",
       "      <td>0.000000</td>\n",
       "      <td>0.000000</td>\n",
       "      <td>0.000000</td>\n",
       "      <td>0.000000</td>\n",
       "      <td>0.000000</td>\n",
       "      <td>0.000000</td>\n",
       "      <td>0.000000</td>\n",
       "      <td>0.000000</td>\n",
       "      <td>0.000000</td>\n",
       "      <td>0.000000</td>\n",
       "      <td>...</td>\n",
       "      <td>0.000000</td>\n",
       "      <td>0.000000</td>\n",
       "      <td>0.000000</td>\n",
       "      <td>0.000000</td>\n",
       "      <td>0.000000</td>\n",
       "      <td>0.000000</td>\n",
       "      <td>0.00000</td>\n",
       "      <td>0.000000</td>\n",
       "      <td>0.000000</td>\n",
       "      <td>0.000000</td>\n",
       "    </tr>\n",
       "    <tr>\n",
       "      <th>bioenergy</th>\n",
       "      <td>8.351824</td>\n",
       "      <td>6.049491</td>\n",
       "      <td>4.418299</td>\n",
       "      <td>3.261749</td>\n",
       "      <td>2.440893</td>\n",
       "      <td>1.857478</td>\n",
       "      <td>1.442027</td>\n",
       "      <td>1.145411</td>\n",
       "      <td>0.932888</td>\n",
       "      <td>0.779892</td>\n",
       "      <td>...</td>\n",
       "      <td>0.073776</td>\n",
       "      <td>0.072213</td>\n",
       "      <td>0.070683</td>\n",
       "      <td>0.069187</td>\n",
       "      <td>0.067723</td>\n",
       "      <td>0.066291</td>\n",
       "      <td>0.06489</td>\n",
       "      <td>0.063519</td>\n",
       "      <td>0.062177</td>\n",
       "      <td>0.060865</td>\n",
       "    </tr>\n",
       "    <tr>\n",
       "      <th>landfill_degradable</th>\n",
       "      <td>0.000000</td>\n",
       "      <td>0.000000</td>\n",
       "      <td>0.000000</td>\n",
       "      <td>0.000000</td>\n",
       "      <td>0.000000</td>\n",
       "      <td>0.000000</td>\n",
       "      <td>0.000000</td>\n",
       "      <td>0.000000</td>\n",
       "      <td>0.000000</td>\n",
       "      <td>0.000000</td>\n",
       "      <td>...</td>\n",
       "      <td>0.000000</td>\n",
       "      <td>0.000000</td>\n",
       "      <td>0.000000</td>\n",
       "      <td>0.000000</td>\n",
       "      <td>0.000000</td>\n",
       "      <td>0.000000</td>\n",
       "      <td>0.00000</td>\n",
       "      <td>0.000000</td>\n",
       "      <td>0.000000</td>\n",
       "      <td>0.000000</td>\n",
       "    </tr>\n",
       "    <tr>\n",
       "      <th>landfill_non_degradable</th>\n",
       "      <td>0.000000</td>\n",
       "      <td>0.000000</td>\n",
       "      <td>0.000000</td>\n",
       "      <td>0.000000</td>\n",
       "      <td>0.000000</td>\n",
       "      <td>0.000000</td>\n",
       "      <td>0.000000</td>\n",
       "      <td>0.000000</td>\n",
       "      <td>0.000000</td>\n",
       "      <td>0.000000</td>\n",
       "      <td>...</td>\n",
       "      <td>0.000000</td>\n",
       "      <td>0.000000</td>\n",
       "      <td>0.000000</td>\n",
       "      <td>0.000000</td>\n",
       "      <td>0.000000</td>\n",
       "      <td>0.000000</td>\n",
       "      <td>0.00000</td>\n",
       "      <td>0.000000</td>\n",
       "      <td>0.000000</td>\n",
       "      <td>0.000000</td>\n",
       "    </tr>\n",
       "    <tr>\n",
       "      <th>co2_emissions</th>\n",
       "      <td>0.000000</td>\n",
       "      <td>0.000000</td>\n",
       "      <td>0.000000</td>\n",
       "      <td>0.000000</td>\n",
       "      <td>0.000000</td>\n",
       "      <td>0.000000</td>\n",
       "      <td>0.000000</td>\n",
       "      <td>0.000000</td>\n",
       "      <td>0.000000</td>\n",
       "      <td>0.000000</td>\n",
       "      <td>...</td>\n",
       "      <td>0.000000</td>\n",
       "      <td>0.000000</td>\n",
       "      <td>0.000000</td>\n",
       "      <td>0.000000</td>\n",
       "      <td>0.000000</td>\n",
       "      <td>0.000000</td>\n",
       "      <td>0.00000</td>\n",
       "      <td>0.000000</td>\n",
       "      <td>0.000000</td>\n",
       "      <td>0.000000</td>\n",
       "    </tr>\n",
       "    <tr>\n",
       "      <th>ch4_emissions</th>\n",
       "      <td>0.000000</td>\n",
       "      <td>0.000000</td>\n",
       "      <td>0.000000</td>\n",
       "      <td>0.000000</td>\n",
       "      <td>0.000000</td>\n",
       "      <td>0.000000</td>\n",
       "      <td>0.000000</td>\n",
       "      <td>0.000000</td>\n",
       "      <td>0.000000</td>\n",
       "      <td>0.000000</td>\n",
       "      <td>...</td>\n",
       "      <td>0.000000</td>\n",
       "      <td>0.000000</td>\n",
       "      <td>0.000000</td>\n",
       "      <td>0.000000</td>\n",
       "      <td>0.000000</td>\n",
       "      <td>0.000000</td>\n",
       "      <td>0.00000</td>\n",
       "      <td>0.000000</td>\n",
       "      <td>0.000000</td>\n",
       "      <td>0.000000</td>\n",
       "    </tr>\n",
       "  </tbody>\n",
       "</table>\n",
       "<p>8 rows × 100 columns</p>\n",
       "</div>"
      ],
      "text/plain": [
       "                                 0         1         2         3         4   \\\n",
       "pool_name                                                                     \n",
       "sawnwood                 108.000000  0.000000  0.000000  0.000000  0.000000   \n",
       "veneer                    33.750000  0.000000  0.000000  0.000000  0.000000   \n",
       "paper                      0.000000  0.000000  0.000000  0.000000  0.000000   \n",
       "bioenergy                  8.351824  6.049491  4.418299  3.261749  2.440893   \n",
       "landfill_degradable        0.000000  0.000000  0.000000  0.000000  0.000000   \n",
       "landfill_non_degradable    0.000000  0.000000  0.000000  0.000000  0.000000   \n",
       "co2_emissions              0.000000  0.000000  0.000000  0.000000  0.000000   \n",
       "ch4_emissions              0.000000  0.000000  0.000000  0.000000  0.000000   \n",
       "\n",
       "                               5         6         7         8         9   \\\n",
       "pool_name                                                                   \n",
       "sawnwood                 0.000000  0.000000  0.000000  0.000000  0.000000   \n",
       "veneer                   0.000000  0.000000  0.000000  0.000000  0.000000   \n",
       "paper                    0.000000  0.000000  0.000000  0.000000  0.000000   \n",
       "bioenergy                1.857478  1.442027  1.145411  0.932888  0.779892   \n",
       "landfill_degradable      0.000000  0.000000  0.000000  0.000000  0.000000   \n",
       "landfill_non_degradable  0.000000  0.000000  0.000000  0.000000  0.000000   \n",
       "co2_emissions            0.000000  0.000000  0.000000  0.000000  0.000000   \n",
       "ch4_emissions            0.000000  0.000000  0.000000  0.000000  0.000000   \n",
       "\n",
       "                         ...        90        91        92        93  \\\n",
       "pool_name                ...                                           \n",
       "sawnwood                 ...  0.000000  0.000000  0.000000  0.000000   \n",
       "veneer                   ...  0.000000  0.000000  0.000000  0.000000   \n",
       "paper                    ...  0.000000  0.000000  0.000000  0.000000   \n",
       "bioenergy                ...  0.073776  0.072213  0.070683  0.069187   \n",
       "landfill_degradable      ...  0.000000  0.000000  0.000000  0.000000   \n",
       "landfill_non_degradable  ...  0.000000  0.000000  0.000000  0.000000   \n",
       "co2_emissions            ...  0.000000  0.000000  0.000000  0.000000   \n",
       "ch4_emissions            ...  0.000000  0.000000  0.000000  0.000000   \n",
       "\n",
       "                               94        95       96        97        98  \\\n",
       "pool_name                                                                  \n",
       "sawnwood                 0.000000  0.000000  0.00000  0.000000  0.000000   \n",
       "veneer                   0.000000  0.000000  0.00000  0.000000  0.000000   \n",
       "paper                    0.000000  0.000000  0.00000  0.000000  0.000000   \n",
       "bioenergy                0.067723  0.066291  0.06489  0.063519  0.062177   \n",
       "landfill_degradable      0.000000  0.000000  0.00000  0.000000  0.000000   \n",
       "landfill_non_degradable  0.000000  0.000000  0.00000  0.000000  0.000000   \n",
       "co2_emissions            0.000000  0.000000  0.00000  0.000000  0.000000   \n",
       "ch4_emissions            0.000000  0.000000  0.00000  0.000000  0.000000   \n",
       "\n",
       "                               99  \n",
       "pool_name                          \n",
       "sawnwood                 0.000000  \n",
       "veneer                   0.000000  \n",
       "paper                    0.000000  \n",
       "bioenergy                0.060865  \n",
       "landfill_degradable      0.000000  \n",
       "landfill_non_degradable  0.000000  \n",
       "co2_emissions            0.000000  \n",
       "ch4_emissions            0.000000  \n",
       "\n",
       "[8 rows x 100 columns]"
      ]
     },
     "execution_count": 18,
     "metadata": {},
     "output_type": "execute_result"
    }
   ],
   "source": [
    "net.get_pools_attr('substitution', as_dataframe=True)"
   ]
  },
  {
   "cell_type": "code",
   "execution_count": 38,
   "id": "ec0df78f-2be3-40e1-80fc-f032848a30bd",
   "metadata": {
    "execution": {
     "iopub.execute_input": "2023-07-26T15:56:13.997708Z",
     "iopub.status.busy": "2023-07-26T15:56:13.997708Z",
     "iopub.status.idle": "2023-07-26T15:56:14.514366Z",
     "shell.execute_reply": "2023-07-26T15:56:14.513362Z",
     "shell.execute_reply.started": "2023-07-26T15:56:13.997708Z"
    },
    "tags": []
   },
   "outputs": [
    {
     "data": {
      "image/png": "[encoded data removed]",
      "text/plain": [
       "<Figure size 640x480 with 1 Axes>"
      ]
     },
     "metadata": {},
     "output_type": "display_data"
    }
   ],
   "source": [
    "fig = net.get_pools_attr('carbon_stock', as_dataframe=True).T.plot()\n",
    "fig.legend(loc='center left', bbox_to_anchor=(1, 0.5))\n",
    "fig.get_figure().savefig('test_results_carbon_stocks.png', bbox_inches='tight')"
   ]
  },
  {
   "cell_type": "code",
   "execution_count": null,
   "id": "be4a3dff-596f-4b09-ab5f-3ff89d18ef54",
   "metadata": {
    "tags": []
   },
   "outputs": [],
   "source": [
    "net.get_pools_attr('substitution', as_dataframe=True).T.plot().legend(loc='center left', bbox_to_anchor=(1, 0.5))"
   ]
  },
  {
   "cell_type": "code",
   "execution_count": 27,
   "id": "15da49d3-8024-4986-a959-d1d4093c3597",
   "metadata": {
    "execution": {
     "iopub.execute_input": "2023-07-26T15:46:28.991126Z",
     "iopub.status.busy": "2023-07-26T15:46:28.991126Z",
     "iopub.status.idle": "2023-07-26T15:46:29.108030Z",
     "shell.execute_reply": "2023-07-26T15:46:29.105693Z",
     "shell.execute_reply.started": "2023-07-26T15:46:28.991126Z"
    },
    "tags": []
   },
   "outputs": [
    {
     "data": {
      "text/plain": [
       "{0: {('sawnwood', 'bioenergy'): 0.3922,\n",
       "  ('sawnwood', 'landfill_degradable'): 0.902,\n",
       "  ('sawnwood', 'landfill_non_degradable'): 2.6277,\n",
       "  ('paper', 'bioenergy'): 8.7868,\n",
       "  ('paper', 'landfill_degradable'): 49.2061,\n",
       "  ('paper', 'landfill_non_degradable'): 29.8751,\n",
       "  ('veneer', 'bioenergy'): 0.2051,\n",
       "  ('veneer', 'landfill_degradable'): 0.4717,\n",
       "  ('veneer', 'landfill_non_degradable'): 1.3741,\n",
       "  ('bioenergy', 'co2_emissions'): 9.3841,\n",
       "  ('landfill_degradable', 'co2_emissions'): 2.0146,\n",
       "  ('landfill_degradable', 'ch4_emissions'): 2.9538},\n",
       " 1: {('sawnwood', 'bioenergy'): 0.3845,\n",
       "  ('sawnwood', 'landfill_degradable'): 0.8843,\n",
       "  ('sawnwood', 'landfill_non_degradable'): 2.5761,\n",
       "  ('paper', 'bioenergy'): 6.2132,\n",
       "  ('paper', 'landfill_degradable'): 34.7939,\n",
       "  ('paper', 'landfill_non_degradable'): 21.1249,\n",
       "  ('veneer', 'bioenergy'): 0.1995,\n",
       "  ('veneer', 'landfill_degradable'): 0.4588,\n",
       "  ('veneer', 'landfill_non_degradable'): 1.3365,\n",
       "  ('bioenergy', 'co2_emissions'): 6.7972,\n",
       "  ('landfill_degradable', 'co2_emissions'): 2.8823,\n",
       "  ('landfill_degradable', 'ch4_emissions'): 4.2261},\n",
       " 2: {('sawnwood', 'bioenergy'): 0.377,\n",
       "  ('sawnwood', 'landfill_degradable'): 0.867,\n",
       "  ('sawnwood', 'landfill_non_degradable'): 2.5256,\n",
       "  ('paper', 'bioenergy'): 7.3223,\n",
       "  ('paper', 'landfill_degradable'): 41.0051,\n",
       "  ('paper', 'landfill_non_degradable'): 24.8959,\n",
       "  ('veneer', 'bioenergy'): 0.194,\n",
       "  ('veneer', 'landfill_degradable'): 0.4463,\n",
       "  ('veneer', 'landfill_non_degradable'): 1.3,\n",
       "  ('bioenergy', 'co2_emissions'): 7.8933,\n",
       "  ('landfill_degradable', 'co2_emissions'): 3.4205,\n",
       "  ('landfill_degradable', 'ch4_emissions'): 5.0153}}"
      ]
     },
     "execution_count": 27,
     "metadata": {},
     "output_type": "execute_result"
    }
   ],
   "source": [
    "net.get_flows_attr('values', as_dataframe=True)[[0,1,2]].round(4).to_dict()"
   ]
  },
  {
   "cell_type": "markdown",
   "id": "321278d6-81c1-4688-88ad-979553843430",
   "metadata": {},
   "source": [
    "### Speed test"
   ]
  },
  {
   "cell_type": "code",
   "execution_count": null,
   "id": "4b125342-5b89-4837-a904-446557a0b9d4",
   "metadata": {
    "tags": []
   },
   "outputs": [],
   "source": [
    "import timeit"
   ]
  },
  {
   "cell_type": "code",
   "execution_count": null,
   "id": "e3189817-cebc-4281-9df6-fe0abc1bf276",
   "metadata": {
    "tags": []
   },
   "outputs": [],
   "source": [
    "import timeit\n",
    "timeit.template = \"\"\"\n",
    "def inner(_it, _timer{init}):\n",
    "    {setup}\n",
    "    _t0 = _timer()\n",
    "    for _i in _it:\n",
    "        retval = {stmt}\n",
    "    _t1 = _timer()\n",
    "    return _t1 - _t0, retval\n",
    "\"\"\""
   ]
  },
  {
   "cell_type": "code",
   "execution_count": null,
   "id": "3fb6d7a3-b2f9-489b-b3de-c6b9068273b6",
   "metadata": {},
   "outputs": [],
   "source": [
    "Globals = "
   ]
  },
  {
   "cell_type": "code",
   "execution_count": null,
   "id": "e32cd80a-d184-480d-a77d-aeb3b2fdae65",
   "metadata": {
    "tags": []
   },
   "outputs": [],
   "source": [
    "# Speed test\n",
    "inputs = {'paper': [100], 'veneer': [200], 'sawnwood':[250]}\n",
    "exc_time = {} \n",
    "myGlobals= globals()\n",
    "myGlobals.update({'net': net})\n",
    "for steps in range(10, 500, 50):\n",
    "    print(f'steps : {steps}')\n",
    "    t = timeit.Timer('net.run_simulation(inputs, steps=steps)', globals=myGlobals).timeit(number=1000)\n",
    "    exc_time[steps] = t[0]/1000"
   ]
  },
  {
   "cell_type": "code",
   "execution_count": null,
   "id": "d08e95a7-91e2-4351-8948-6c417d6d761b",
   "metadata": {
    "tags": []
   },
   "outputs": [],
   "source": [
    "exc_time"
   ]
  },
  {
   "cell_type": "code",
   "execution_count": 11,
   "id": "5ed4ea75-8f7d-4c12-a21a-cf2a3e2aa91a",
   "metadata": {
    "execution": {
     "iopub.execute_input": "2023-07-26T15:02:11.636993Z",
     "iopub.status.busy": "2023-07-26T15:02:11.635996Z",
     "iopub.status.idle": "2023-07-26T15:02:19.169871Z",
     "shell.execute_reply": "2023-07-26T15:02:19.168873Z",
     "shell.execute_reply.started": "2023-07-26T15:02:11.636993Z"
    },
    "tags": []
   },
   "outputs": [
    {
     "name": "stdout",
     "output_type": "stream",
     "text": [
      "9.45 ms ± 912 µs per loop (mean ± std. dev. of 7 runs, 100 loops each)\n"
     ]
    }
   ],
   "source": [
    "%%timeit\n",
    "inputs = {'paper': [100], 'veneer': [200], 'sawnwood':[250]}\n",
    "net.run_simulation(inputs, steps=500)"
   ]
  },
  {
   "cell_type": "code",
   "execution_count": null,
   "id": "ca58a746-fa19-43e9-ab5a-7b2e8132576c",
   "metadata": {},
   "outputs": [],
   "source": []
  },
  {
   "cell_type": "markdown",
   "id": "3f21e125-4bb1-4632-8af9-9dbaa14a9d1f",
   "metadata": {
    "execution": {
     "iopub.execute_input": "2023-07-20T15:40:52.235653Z",
     "iopub.status.busy": "2023-07-20T15:40:52.235653Z",
     "iopub.status.idle": "2023-07-20T15:40:53.942706Z",
     "shell.execute_reply": "2023-07-20T15:40:53.941705Z",
     "shell.execute_reply.started": "2023-07-20T15:40:52.235653Z"
    },
    "tags": []
   },
   "source": [
    "## Plotting"
   ]
  },
  {
   "cell_type": "code",
   "execution_count": null,
   "id": "6b99731b-132a-43fa-bf5a-88eb553773fd",
   "metadata": {
    "tags": []
   },
   "outputs": [],
   "source": [
    "dot = network_to_dot(net)"
   ]
  },
  {
   "cell_type": "code",
   "execution_count": null,
   "id": "2ea6912a-6a20-483a-90bc-01465e5f4540",
   "metadata": {
    "tags": []
   },
   "outputs": [],
   "source": [
    "dot"
   ]
  },
  {
   "cell_type": "code",
   "execution_count": null,
   "id": "4e046689-59b8-4321-9e13-57bdd15b78dc",
   "metadata": {},
   "outputs": [],
   "source": []
  },
  {
   "cell_type": "markdown",
   "id": "449a8e0f-f664-46c0-9e9e-326d9809c28b",
   "metadata": {},
   "source": [
    "# Decay func testing"
   ]
  },
  {
   "cell_type": "code",
   "execution_count": null,
   "id": "cc438b3f-edb6-4a22-b192-a83168a1d392",
   "metadata": {
    "tags": []
   },
   "outputs": [],
   "source": [
    "import math\n",
    "import pandas as pd\n",
    "import numpy as np\n",
    "import matplotlib.pyplot as plt\n",
    "from numba import vectorize, float64"
   ]
  },
  {
   "cell_type": "code",
   "execution_count": null,
   "id": "980d73dc-4d35-4b33-82a9-474058a240b1",
   "metadata": {
    "tags": []
   },
   "outputs": [],
   "source": [
    "half_life = 4\n",
    "steps = 100\n",
    "inputs = [100] * steps"
   ]
  },
  {
   "cell_type": "markdown",
   "id": "cd131afa-37d1-42fe-bb9b-61ea02a3294a",
   "metadata": {},
   "source": [
    "## with numba an accumulate"
   ]
  },
  {
   "cell_type": "code",
   "execution_count": null,
   "id": "99747445-a5fb-4e86-8a89-119179ef405e",
   "metadata": {
    "tags": []
   },
   "outputs": [],
   "source": [
    "def _construct_decay_func(half_life):\n",
    "    '''use f.accumulate(data) to calculate the remaining product with a decay_rate'''\n",
    "    if half_life == 0:\n",
    "        decay_rate = 0\n",
    "    elif np.isnan(half_life):\n",
    "        decay_rate = 1\n",
    "    else:\n",
    "        decay_rate = math.exp(-math.log(2)/half_life)\n",
    "    @vectorize([float64(float64, float64)])\n",
    "    def f(x, y):\n",
    "        return decay_rate * (x + y)\n",
    "    return f"
   ]
  },
  {
   "cell_type": "code",
   "execution_count": null,
   "id": "ff05eb38-0217-447a-9951-c3cd549ac5d2",
   "metadata": {
    "tags": []
   },
   "outputs": [],
   "source": [
    "%timeit func = _construct_decay_func(half_life)\n",
    "%timeit -n 250 -r 7 t = func.accumulate(inputs)"
   ]
  },
  {
   "cell_type": "markdown",
   "id": "a95fbb95-8635-4c93-a407-29b393ce0a72",
   "metadata": {},
   "source": [
    "## python and numpy"
   ]
  },
  {
   "cell_type": "code",
   "execution_count": null,
   "id": "ad77488d-463f-4ba3-b3cf-544429e3b769",
   "metadata": {
    "tags": []
   },
   "outputs": [],
   "source": [
    "def _construct_decay_func(half_life):\n",
    "    '''use f.accumulate(data) to calculate the remaining product with a decay_rate'''\n",
    "    if half_life == 0:\n",
    "        decay_rate = 0\n",
    "    elif np.isnan(half_life):\n",
    "        decay_rate = 1\n",
    "    else:\n",
    "        decay_rate = math.exp(-math.log(2)/half_life)\n",
    "    def f(x, y):\n",
    "        return decay_rate * (x + y)\n",
    "    return np.frompyfunc(f, nin=2, nout=1)"
   ]
  },
  {
   "cell_type": "code",
   "execution_count": null,
   "id": "4ea2d9e3-f3dd-4948-b8ad-9b03ffa12762",
   "metadata": {
    "tags": []
   },
   "outputs": [],
   "source": [
    "%timeit func = _construct_decay_func(half_life)\n",
    "%timeit -n 250 -r 7 t = func.accumulate(inputs)"
   ]
  },
  {
   "cell_type": "code",
   "execution_count": null,
   "id": "8284c64a-f8db-4843-9b52-8f22e784bd2f",
   "metadata": {
    "tags": []
   },
   "outputs": [],
   "source": [
    "start = 100\n",
    "steps = 100\n",
    "half_life = \n",
    "math.exp(-math.log(2)/half_life)"
   ]
  },
  {
   "cell_type": "code",
   "execution_count": null,
   "id": "41bce215-795a-4d32-b14a-ce16e40250fd",
   "metadata": {
    "tags": []
   },
   "outputs": [],
   "source": [
    "%time t = [start*0**t for t in range(steps)]"
   ]
  },
  {
   "cell_type": "markdown",
   "id": "b3c276aa-3d3e-4c98-bf83-d1904e15763f",
   "metadata": {},
   "source": [
    "# Loop in graph"
   ]
  },
  {
   "cell_type": "code",
   "execution_count": null,
   "id": "cf038be8-5246-4c88-8663-71f27662f8da",
   "metadata": {
    "tags": []
   },
   "outputs": [],
   "source": [
    "def cyclic(graph):\n",
    "    \"\"\"Return True if the directed graph has a cycle.\n",
    "    The graph must be represented as a dictionary mapping vertices to\n",
    "    iterables of neighbouring vertices. For example:\n",
    "\n",
    "    >>> cyclic({1: (2,), 2: (3,), 3: (1,)})\n",
    "    True\n",
    "    >>> cyclic({1: (2,), 2: (3,), 3: (4,)})\n",
    "    False\n",
    "    \n",
    "    https://codereview.stackexchange.com/questions/86021/check-if-a-directed-graph-contains-a-cycle\n",
    "    \"\"\"\n",
    "    visited = set()\n",
    "    path = [object()]\n",
    "    path_set = set(path)\n",
    "    stack = [iter(graph)]\n",
    "    while stack:\n",
    "        print(f'{stack=}')\n",
    "        for v in stack[-1]:\n",
    "            print(f' {v=}')\n",
    "            if v in path_set:\n",
    "                return True, f'Loop found on node {v}'\n",
    "            elif v not in visited:\n",
    "                visited.add(v)\n",
    "                path.append(v)\n",
    "                path_set.add(v)\n",
    "                stack.append(iter(graph.get(v, ())))\n",
    "                break\n",
    "        else:\n",
    "            path_set.remove(path.pop())\n",
    "            stack.pop()\n",
    "    return False, 'No loop found'"
   ]
  },
  {
   "cell_type": "code",
   "execution_count": null,
   "id": "a98ccbef-f990-4ede-957c-f0fb0b855ca0",
   "metadata": {
    "tags": []
   },
   "outputs": [],
   "source": [
    "net.arcs"
   ]
  },
  {
   "cell_type": "code",
   "execution_count": null,
   "id": "9585002d-23bb-4058-bf49-a06f820b20a6",
   "metadata": {
    "tags": []
   },
   "outputs": [],
   "source": [
    "graph = {pool_name: [child_name for child_name in pool.dst_pools if not net.flows[pool_name, child_name].recycling] for pool_name, pool in net.pools.items()}\n",
    "cyclic(graph)"
   ]
  },
  {
   "cell_type": "code",
   "execution_count": null,
   "id": "c0bf5dd1-46f6-4407-a362-28400bb276e5",
   "metadata": {
    "tags": []
   },
   "outputs": [],
   "source": [
    "def search(d, key, default=None):\n",
    "    \"\"\"Return a value corresponding to the specified key in the (possibly\n",
    "    nested) dictionary d. If there is no item with that key, return\n",
    "    default.\n",
    " \n",
    "    \"\"\"\n",
    "    stack = [iter(d.items())]\n",
    "    while stack:\n",
    "        for k, v in stack[-1]:\n",
    "            print(f'{k=}, {v=}')\n",
    "            if isinstance(v, dict):\n",
    "                stack.append(iter(v.items()))\n",
    "                break\n",
    "            elif k == key:\n",
    "                return v\n",
    "        else:\n",
    "            print('poping')\n",
    "            stack.pop()\n",
    "    return default"
   ]
  },
  {
   "cell_type": "code",
   "execution_count": null,
   "id": "168c172e-e463-4592-93da-0e5f6f67d452",
   "metadata": {
    "tags": []
   },
   "outputs": [],
   "source": [
    "d = {1:{2:{3:{4:{}}}}}\n",
    "search(d, 'test')"
   ]
  },
  {
   "cell_type": "code",
   "execution_count": null,
   "id": "153f4191-be6d-4e1f-bc43-39a939efa93a",
   "metadata": {
    "tags": []
   },
   "outputs": [],
   "source": [
    "[pool_name for pool_name, pool in net.pools.items() \n",
    " if not pool.src_pools \n",
    "    or all([net.flows[(parent_name, pool_name)].recycling \n",
    "            for parent_name in pool.src_pools])]"
   ]
  },
  {
   "cell_type": "markdown",
   "id": "e7520b5a-1a60-45a8-bba5-58ce04876952",
   "metadata": {},
   "source": [
    "# Graphviz test"
   ]
  },
  {
   "cell_type": "code",
   "execution_count": null,
   "id": "977a53cd-dd8a-4b3b-9768-3988190f64b8",
   "metadata": {
    "tags": []
   },
   "outputs": [],
   "source": [
    "import graphviz  # doctest: +NO_EXE\n",
    "dot = graphviz.Digraph(comment='The Round Table')\n",
    "dot  #doctest: +ELLIPSIS"
   ]
  },
  {
   "cell_type": "code",
   "execution_count": null,
   "id": "6964a0fe-1ff7-4c4c-8985-cfbeb0b8369f",
   "metadata": {
    "tags": []
   },
   "outputs": [],
   "source": [
    "dot.node('A', 'King Arthur')  # doctest: +NO_EXE\n",
    "dot.node('B', 'Sir Bedevere the Wise')\n",
    "dot.node('L', 'Sir Lancelot the Brave')\n",
    "\n",
    "dot.edges(['AB', 'AL'])\n",
    "dot.edge('B', 'L', constraint='false')"
   ]
  },
  {
   "cell_type": "code",
   "execution_count": null,
   "id": "b17615b6-120f-4d9e-93bf-991829073aa7",
   "metadata": {
    "tags": []
   },
   "outputs": [],
   "source": [
    "print(dot.source)"
   ]
  },
  {
   "cell_type": "code",
   "execution_count": null,
   "id": "aa61fba0-3263-4baa-9f9b-9455fbffe838",
   "metadata": {
    "tags": []
   },
   "outputs": [],
   "source": [
    "graphviz.Graph"
   ]
  },
  {
   "cell_type": "code",
   "execution_count": null,
   "id": "11f37061-8154-459c-acba-0a2c438ba91e",
   "metadata": {},
   "outputs": [],
   "source": []
  },
  {
   "cell_type": "code",
   "execution_count": null,
   "id": "31c9c5f6-6332-4800-9898-9461d329b20b",
   "metadata": {},
   "outputs": [],
   "source": []
  },
  {
   "cell_type": "code",
   "execution_count": null,
   "id": "25e63247-b154-4662-8064-e81a370a6aa8",
   "metadata": {},
   "outputs": [],
   "source": []
  },
  {
   "cell_type": "code",
   "execution_count": null,
   "id": "6f1ddf32-d225-4089-8705-99f8cd5f6050",
   "metadata": {},
   "outputs": [],
   "source": []
  }
 ],
 "metadata": {
  "kernelspec": {
   "display_name": "Python 3 (ipykernel)",
   "language": "python",
   "name": "python3"
  },
  "language_info": {
   "codemirror_mode": {
    "name": "ipython",
    "version": 3
   },
   "file_extension": ".py",
   "mimetype": "text/x-python",
   "name": "python",
   "nbconvert_exporter": "python",
   "pygments_lexer": "ipython3",
   "version": "3.10.12"
  }
 },
 "nbformat": 4,
 "nbformat_minor": 5
}
